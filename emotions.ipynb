{
 "cells": [
  {
   "cell_type": "markdown",
   "metadata": {
    "collapsed": false
   },
   "source": [
    "# Emotion Recognition\n",
    "\n",
    "Udacity Nanodegre Capstone Project"
   ]
  },
  {
   "cell_type": "markdown",
   "metadata": {},
   "source": [
    "---\n",
    "### Basic Data Research\n",
    "\n",
    "First of all, let's look into available data structure and sample some examples."
   ]
  },
  {
   "cell_type": "code",
   "execution_count": 1,
   "metadata": {
    "collapsed": false
   },
   "outputs": [
    {
     "data": {
      "text/html": [
       "<div>\n",
       "<table border=\"1\" class=\"dataframe\">\n",
       "  <thead>\n",
       "    <tr style=\"text-align: right;\">\n",
       "      <th></th>\n",
       "      <th>emotion</th>\n",
       "      <th>pixels</th>\n",
       "      <th>Usage</th>\n",
       "    </tr>\n",
       "  </thead>\n",
       "  <tbody>\n",
       "    <tr>\n",
       "      <th>0</th>\n",
       "      <td>0</td>\n",
       "      <td>70 80 82 72 58 58 60 63 54 58 60 48 89 115 121...</td>\n",
       "      <td>Training</td>\n",
       "    </tr>\n",
       "    <tr>\n",
       "      <th>1</th>\n",
       "      <td>0</td>\n",
       "      <td>151 150 147 155 148 133 111 140 170 174 182 15...</td>\n",
       "      <td>Training</td>\n",
       "    </tr>\n",
       "    <tr>\n",
       "      <th>2</th>\n",
       "      <td>2</td>\n",
       "      <td>231 212 156 164 174 138 161 173 182 200 106 38...</td>\n",
       "      <td>Training</td>\n",
       "    </tr>\n",
       "  </tbody>\n",
       "</table>\n",
       "</div>"
      ],
      "text/plain": [
       "   emotion                                             pixels     Usage\n",
       "0        0  70 80 82 72 58 58 60 63 54 58 60 48 89 115 121...  Training\n",
       "1        0  151 150 147 155 148 133 111 140 170 174 182 15...  Training\n",
       "2        2  231 212 156 164 174 138 161 173 182 200 106 38...  Training"
      ]
     },
     "execution_count": 1,
     "metadata": {},
     "output_type": "execute_result"
    }
   ],
   "source": [
    "from IPython.display import display\n",
    "from basedir import data\n",
    "import pandas as pd\n",
    "\n",
    "\n",
    "emotions_data = pd.read_csv(data('fer2013', 'fer2013.csv'))\n",
    "emotions_data['emotion'] = emotions_data['emotion'].apply(int)\n",
    "emotions_data.head(3)"
   ]
  },
  {
   "cell_type": "code",
   "execution_count": 3,
   "metadata": {
    "collapsed": true
   },
   "outputs": [],
   "source": [
    "def get_subset(labels):\n",
    "    if isinstance(labels, str):\n",
    "        labels = [labels]\n",
    "    return pd.DataFrame(emotions_data[emotions_data.Usage.isin(labels)])\n",
    "\n",
    "\n",
    "training_data = get_subset(['Training', 'PublicTest'])\n",
    "del training_data['Usage']\n",
    "\n",
    "test_data = get_subset('PrivateTest')\n",
    "del test_data['Usage']"
   ]
  },
  {
   "cell_type": "code",
   "execution_count": 10,
   "metadata": {
    "collapsed": false
   },
   "outputs": [],
   "source": [
    "%matplotlib inline\n",
    "from itertools import chain\n",
    "import random\n",
    "\n",
    "import matplotlib.pylab as plt\n",
    "import numpy as np\n",
    "\n",
    "\n",
    "verbose_emotion = ['Angry', 'Disgust', 'Fear', 'Happy', 'Sad', 'Surprise', 'Neutral']\n",
    "\n",
    "\n",
    "def to_image(data, size=48):\n",
    "    if isinstance(data, str):\n",
    "        data = data.split()\n",
    "    flat = np.array([float(px) for px in data])\n",
    "    return flat.reshape((size, size))\n",
    "\n",
    "\n",
    "def sample_emotions(emotions=None):\n",
    "    grid_spec = {'hspace': 0.5}\n",
    "    fig, axes = plt.subplots(4, 4, figsize=(8, 8), facecolor='whitesmoke', gridspec_kw=grid_spec)\n",
    "    df = training_data\n",
    "    n = len(df)\n",
    "\n",
    "    if emotions is not None:\n",
    "        emotions = list(\n",
    "            i for i, name in enumerate(verbose_emotion)\n",
    "            if name.lower() in emotions)\n",
    "        df = df[df.emotion.isin(emotions)]\n",
    "\n",
    "    # color_map = plt.cm.get_cmap('Greys')\n",
    "    color_map = plt.cm.get_cmap('coolwarm')\n",
    "\n",
    "    for ax in chain(*axes):\n",
    "        record = df.iloc[random.randint(0, n)]\n",
    "        img = to_image(record.pixels)\n",
    "        ax.imshow(img, cmap=color_map)\n",
    "        ax.set_title(\"Emotion = '%s'\" % verbose_emotion[record.emotion],\n",
    "                     fontdict={'fontsize': 10})\n",
    "        ax.set_xticks([])\n",
    "        ax.set_yticks([])\n",
    "        \n",
    "    fig.savefig(\"/Users/ck/Desktop/faces.png\", format='png')\n",
    "\n",
    "\n",
    "sample_emotions()"
   ]
  },
  {
   "cell_type": "code",
   "execution_count": 24,
   "metadata": {
    "collapsed": false
   },
   "outputs": [
    {
     "name": "stdout",
     "output_type": "stream",
     "text": [
      "Emotions set\n"
     ]
    },
    {
     "data": {
      "text/html": [
       "<div>\n",
       "<table border=\"1\" class=\"dataframe\">\n",
       "  <thead>\n",
       "    <tr style=\"text-align: right;\">\n",
       "      <th></th>\n",
       "      <th>count</th>\n",
       "      <th>label</th>\n",
       "      <th>verbose</th>\n",
       "    </tr>\n",
       "  </thead>\n",
       "  <tbody>\n",
       "    <tr>\n",
       "      <th>0</th>\n",
       "      <td>4953</td>\n",
       "      <td>0</td>\n",
       "      <td>Angry</td>\n",
       "    </tr>\n",
       "    <tr>\n",
       "      <th>1</th>\n",
       "      <td>547</td>\n",
       "      <td>1</td>\n",
       "      <td>Disgust</td>\n",
       "    </tr>\n",
       "    <tr>\n",
       "      <th>2</th>\n",
       "      <td>5121</td>\n",
       "      <td>2</td>\n",
       "      <td>Fear</td>\n",
       "    </tr>\n",
       "    <tr>\n",
       "      <th>3</th>\n",
       "      <td>8989</td>\n",
       "      <td>3</td>\n",
       "      <td>Happy</td>\n",
       "    </tr>\n",
       "    <tr>\n",
       "      <th>4</th>\n",
       "      <td>6077</td>\n",
       "      <td>4</td>\n",
       "      <td>Sad</td>\n",
       "    </tr>\n",
       "    <tr>\n",
       "      <th>5</th>\n",
       "      <td>4002</td>\n",
       "      <td>5</td>\n",
       "      <td>Surprise</td>\n",
       "    </tr>\n",
       "    <tr>\n",
       "      <th>6</th>\n",
       "      <td>6198</td>\n",
       "      <td>6</td>\n",
       "      <td>Neutral</td>\n",
       "    </tr>\n",
       "  </tbody>\n",
       "</table>\n",
       "</div>"
      ],
      "text/plain": [
       "<div>\n",
       "<table border=\"1\" class=\"dataframe\">\n",
       "  <thead>\n",
       "    <tr style=\"text-align: right;\">\n",
       "      <th></th>\n",
       "      <th>count</th>\n",
       "      <th>label</th>\n",
       "      <th>verbose</th>\n",
       "    </tr>\n",
       "  </thead>\n",
       "  <tbody>\n",
       "    <tr>\n",
       "      <th>0</th>\n",
       "      <td>4953</td>\n",
       "      <td>0</td>\n",
       "      <td>Angry</td>\n",
       "    </tr>\n",
       "    <tr>\n",
       "      <th>1</th>\n",
       "      <td>547</td>\n",
       "      <td>1</td>\n",
       "      <td>Disgust</td>\n",
       "    </tr>\n",
       "    <tr>\n",
       "      <th>2</th>\n",
       "      <td>5121</td>\n",
       "      <td>2</td>\n",
       "      <td>Fear</td>\n",
       "    </tr>\n",
       "    <tr>\n",
       "      <th>3</th>\n",
       "      <td>8989</td>\n",
       "      <td>3</td>\n",
       "      <td>Happy</td>\n",
       "    </tr>\n",
       "    <tr>\n",
       "      <th>4</th>\n",
       "      <td>6077</td>\n",
       "      <td>4</td>\n",
       "      <td>Sad</td>\n",
       "    </tr>\n",
       "    <tr>\n",
       "      <th>5</th>\n",
       "      <td>4002</td>\n",
       "      <td>5</td>\n",
       "      <td>Surprise</td>\n",
       "    </tr>\n",
       "    <tr>\n",
       "      <th>6</th>\n",
       "      <td>6198</td>\n",
       "      <td>6</td>\n",
       "      <td>Neutral</td>\n",
       "    </tr>\n",
       "  </tbody>\n",
       "</table>\n",
       "</div>"
      ]
     },
     "execution_count": 0,
     "metadata": {},
     "output_type": "execute_result"
    }
   ],
   "source": [
    "from collections import Counter\n",
    "from operator import itemgetter\n",
    "\n",
    "counter = Counter(emotions_data.emotion.tolist())\n",
    "pairs = sorted(counter.items(), key=itemgetter(0))\n",
    "verbose = [{\"label\": i, \"verbose\": verbose_emotion[i], \"count\": count}  \n",
    "           for i, count in pairs]\n",
    "\n",
    "df = pd.DataFrame(verbose)\n",
    "print(\"Emotions set\")\n",
    "display(df)"
   ]
  },
  {
   "cell_type": "markdown",
   "metadata": {},
   "source": [
    "---\n",
    "### More Involved Analysis and Data Transformation\n",
    "\n",
    "First steps worked with original CSV file and doesn't alternate it in any way. To make original data more suitable for next steps, a few modifications were applied.\n",
    "\n",
    "Also, as soon as the dataset was excluded from repository (because of its big size), an extra utility was created to download this data. "
   ]
  },
  {
   "cell_type": "code",
   "execution_count": 13,
   "metadata": {
    "collapsed": false
   },
   "outputs": [
    {
     "name": "stdout",
     "output_type": "stream",
     "text": [
      "Data not found. Trying to download from remote folder..\n",
      "ERROR: Data is not available - unsupported pickle protocol: 4\n"
     ]
    }
   ],
   "source": [
    "import urllib\n",
    "\n",
    "from IPython.display import display\n",
    "import pandas as pd\n",
    "import numpy as np\n",
    "\n",
    "from basedir import data, DATA_FOLDER\n",
    "\n",
    "\n",
    "class DataLoader:\n",
    "    \"\"\"Incapsulates data downloading process.\"\"\"\n",
    "    \n",
    "    def __init__(downloads_folder='~/data', uncompress=True):\n",
    "        self.downloads_folder = downloads_folder\n",
    "        self.uncompress = uncompress\n",
    "        \n",
    "    def load(path):\n",
    "        pass\n",
    "    \n",
    "    def _download_url(url):\n",
    "        pass\n",
    "    \n",
    "    def _unarchive(archive_path):\n",
    "        pass\n",
    "    \n",
    "\n",
    "def prepare_data(path):\n",
    "    pass    \n",
    "\n",
    "\n",
    "saved_file = 'emotions.dat'\n",
    "data_path = data(saved_file)\n",
    "\n",
    "if data_path:\n",
    "    print('Data already downloaded. Parse into dataframe..')\n",
    "    emotions = pd.read_pickle(data_path)\n",
    "    display(emotions.head())\n",
    "    \n",
    "else:\n",
    "    print('Data not found. Trying to download from remote folder..')\n",
    "    data_link = \"https://www.dropbox.com/s/nxzkjku0cfyqv5n/emotions.dat?dl=1\"\n",
    "    try:\n",
    "        filename, _ = urllib.urlretrieve(data_link)\n",
    "        emotions = pd.read_pickle(filename)    \n",
    "        emotions.to_pickle(os.path.join(DATA_FOLDER, saved_file))\n",
    "    except Exception as e:\n",
    "        print('ERROR: Data is not available - %s' % str(e))\n",
    "    else:\n",
    "        print('Success!')\n",
    "        display(emotions.head())\n",
    "\n"
   ]
  },
  {
   "cell_type": "code",
   "execution_count": 1,
   "metadata": {
    "collapsed": false
   },
   "outputs": [],
   "source": [
    "import pandas as pd\n",
    "from basedir import data\n",
    "\n",
    "\n",
    "def label_matrix(data):\n",
    "    return data.label.values.reshape(-1, 1)\n",
    "\n",
    "def pixel_matrix(data):\n",
    "    return data.drop(['label', 'verbose', 'subset'], axis=1).values\n",
    "\n",
    "\n",
    "emotions = pd.read_pickle(data('fer2013', 'emotions.dat'))\n",
    "train_data = emotions[emotions.subset == 'train']\n",
    "valid_data = emotions[emotions.subset == 'valid']\n",
    "test_data = emotions[emotions.subset == 'test']\n",
    "\n",
    "X_train, y_train = pixel_matrix(train_data), label_matrix(train_data)\n",
    "X_valid, y_valid = pixel_matrix(valid_data), label_matrix(valid_data)"
   ]
  },
  {
   "cell_type": "code",
   "execution_count": 69,
   "metadata": {
    "collapsed": false
   },
   "outputs": [],
   "source": [
    "%matplotlib inline\n",
    "\n",
    "import matplotlib.pyplot as plt\n",
    "from sklearn.preprocessing import MinMaxScaler\n",
    "from sklearn.decomposition import FastICA\n",
    "from sklearn.linear_model import LogisticRegression\n",
    "from sklearn.ensemble import RandomForestClassifier\n",
    "from sklearn.model_selection import (\n",
    "    cross_val_score, cross_val_predict, \n",
    "    learning_curve, StratifiedKFold)\n",
    "from sklearn.grid_search import GridSearchCV, ParameterGrid\n",
    "\n",
    "\n",
    "RANDOM_STATE = 1\n",
    "\n",
    "\n",
    "scaler = MinMaxScaler()\n",
    "X_train_norm = scaler.fit_transform(X_train)\n",
    "X_valid_norm = scaler.fit_transform(X_valid)"
   ]
  },
  {
   "cell_type": "code",
   "execution_count": 61,
   "metadata": {
    "collapsed": false
   },
   "outputs": [
    {
     "data": {
      "image/png": "[encoded data removed]",
      "text/plain": [
       "<matplotlib.figure.Figure at 0x1cf6b49b0>"
      ]
     },
     "metadata": {},
     "output_type": "display_data"
    }
   ],
   "source": [
    "# Verify that images are not malformed during data transformation\n",
    "\n",
    "from itertools import chain\n",
    "import random\n",
    "\n",
    "\n",
    "def sample_images(data, nrow=3, ncol=3):\n",
    "    rows, columns = data.shape\n",
    "    fig, axes = plt.subplots(nrow, ncol)    \n",
    "    indicies = []\n",
    "    for ax in chain(*axes): \n",
    "        index = random.randint(0, rows)\n",
    "        img = data[index, :].reshape(48, 48)\n",
    "        ax.imshow(img, cmap=plt.get_cmap('gray'))\n",
    "        ax.set_xticks([])\n",
    "        ax.set_yticks([])\n",
    "        indicies.append(index)\n",
    "    return fig, indicies\n",
    "\n",
    "\n",
    "fig, indicies = sample_images(X_train_norm)"
   ]
  },
  {
   "cell_type": "markdown",
   "metadata": {},
   "source": [
    "---\n",
    "## Baseline Models\n",
    "\n",
    "To apply baseline models, it was decided to use small data subset at first to speed up development process. The whole dataset training will be performed on dedicated host."
   ]
  },
  {
   "cell_type": "code",
   "execution_count": 88,
   "metadata": {
    "collapsed": false
   },
   "outputs": [
    {
     "name": "stdout",
     "output_type": "stream",
     "text": [
      "Subset shapes: X.shape = (2870, 2304), y.shape = (2870, 1)\n"
     ]
    }
   ],
   "source": [
    "# Selecting a small data subset to perform basic training\n",
    "\n",
    "def take_subset(X, y, subset_percent=0.1):\n",
    "    assert X.shape[0] == y.shape[0]\n",
    "    rows, columns = X.shape\n",
    "    rows_range = list(range(rows))\n",
    "    selected_rows = random.sample(rows_range, int(rows*subset_percent))\n",
    "    return X[selected_rows, :].copy(), y[selected_rows, :].copy()\n",
    "\n",
    "\n",
    "X_train_subset, y_train_subset = take_subset(X_train_norm, y_train)\n",
    "print(\"Subset shapes: X.shape = %s, y.shape = %s\" % (X_train_subset.shape, y_train_subset.shape))"
   ]
  },
  {
   "cell_type": "markdown",
   "metadata": {},
   "source": [
    "### Logistic regression\n",
    "\n",
    "The first applyied model is Logistic Regression Classifier."
   ]
  },
  {
   "cell_type": "code",
   "execution_count": null,
   "metadata": {
    "collapsed": false
   },
   "outputs": [],
   "source": [
    "# Apply baseline models\n",
    "import numpy as np\n",
    "\n",
    "param_grid = {\n",
    "    'penalty': ['l1', 'l2'],\n",
    "    'C': [100.0, 30.0, 10.0, 3.0, 1.0],    \n",
    "}\n",
    "\n",
    "logreg = LogisticRegression(random_state=RANDOM_STATE)        \n",
    "grid_search = GridSearchCV(estimator=logreg, cv=5, param_grid=param_grid, n_jobs=4, verbose=2)\n",
    "grid_search.fit(X_train_subset, y_train_subset.ravel())"
   ]
  },
  {
   "cell_type": "code",
   "execution_count": 79,
   "metadata": {
    "collapsed": false
   },
   "outputs": [
    {
     "data": {
      "text/plain": [
       "array([[0],\n",
       "       [0],\n",
       "       [2],\n",
       "       [4],\n",
       "       [6]])"
      ]
     },
     "execution_count": 79,
     "metadata": {},
     "output_type": "execute_result"
    }
   ],
   "source": [
    "best_logreg = grid_search.best_model_"
   ]
  },
  {
   "cell_type": "code",
   "execution_count": null,
   "metadata": {
    "collapsed": true
   },
   "outputs": [],
   "source": [
    "param_grid = {\n",
    "    'criterion': ['gini', 'entropy'],\n",
    "    'max_features': [None, 'sqrt', 'log2'],\n",
    "    'min_samples_split': [2, 3, 4]\n",
    "}\n",
    "\n",
    "random_forest = RandomForestClassifier()"
   ]
  },
  {
   "cell_type": "code",
   "execution_count": null,
   "metadata": {
    "collapsed": true
   },
   "outputs": [],
   "source": [
    "from keras.preprocessing.image import ImageDataGenerator \n",
    "\n",
    "# datagen = ImageDataGenerator(featurewise_center=True,\n",
    "#                              featurewise_std_normalization=True,\n",
    "#                              zca_whitening=True)\n",
    "# n, m = sample_grid = (3, 3)\n",
    "# fig, axes = plt.subplots(n, m, figsize=(10, 10))\n",
    "\n",
    "# for X_batch, y_batch in datagen.flow(X_train, y_train, batch_size=n * m):    \n",
    "    \n",
    "#     for ax, pixels, label in zip(chain(*axes), X_batch, y_batch):\n",
    "#         image = pixels.reshape(28, 28)\n",
    "#         ax.imshow(cmap=plt.get_cmap('gray'))\n",
    "#         ax.set_title(\"Emotion = '%s'\" % verbose_emotion[label], fontdict={'fontsize': 10})\n",
    "#         ax.set_xticks([])\n",
    "#         ax.set_yticks([])\n",
    "#         break\n",
    "\n"
   ]
  }
 ],
 "metadata": {
  "kernelspec": {
   "display_name": "Python [conda env:deep]",
   "language": "python",
   "name": "conda-env-deep-py"
  },
  "language_info": {
   "codemirror_mode": {
    "name": "ipython",
    "version": 2
   },
   "file_extension": ".py",
   "mimetype": "text/x-python",
   "name": "python",
   "nbconvert_exporter": "python",
   "pygments_lexer": "ipython2",
   "version": "2.7.13"
  }
 },
 "nbformat": 4,
 "nbformat_minor": 0
}
