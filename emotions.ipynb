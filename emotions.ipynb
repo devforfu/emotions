{
 "cells": [
  {
   "cell_type": "markdown",
   "metadata": {
    "collapsed": false
   },
   "source": [
    "# Emotions Recognition\n",
    "\n",
    "Udacity Nanodegre Capstone Project"
   ]
  },
  {
   "cell_type": "markdown",
   "metadata": {},
   "source": [
    "## Basic Data Research\n",
    "\n",
    "First of all, let's look into available data structure and sample some examples."
   ]
  },
  {
   "cell_type": "code",
   "execution_count": 1,
   "metadata": {
    "collapsed": false
   },
   "outputs": [
    {
     "data": {
      "text/html": [
       "<div>\n",
       "<table border=\"1\" class=\"dataframe\">\n",
       "  <thead>\n",
       "    <tr style=\"text-align: right;\">\n",
       "      <th></th>\n",
       "      <th>emotion</th>\n",
       "      <th>pixels</th>\n",
       "      <th>Usage</th>\n",
       "    </tr>\n",
       "  </thead>\n",
       "  <tbody>\n",
       "    <tr>\n",
       "      <th>0</th>\n",
       "      <td>0</td>\n",
       "      <td>70 80 82 72 58 58 60 63 54 58 60 48 89 115 121...</td>\n",
       "      <td>Training</td>\n",
       "    </tr>\n",
       "    <tr>\n",
       "      <th>1</th>\n",
       "      <td>0</td>\n",
       "      <td>151 150 147 155 148 133 111 140 170 174 182 15...</td>\n",
       "      <td>Training</td>\n",
       "    </tr>\n",
       "    <tr>\n",
       "      <th>2</th>\n",
       "      <td>2</td>\n",
       "      <td>231 212 156 164 174 138 161 173 182 200 106 38...</td>\n",
       "      <td>Training</td>\n",
       "    </tr>\n",
       "  </tbody>\n",
       "</table>\n",
       "</div>"
      ],
      "text/plain": [
       "   emotion                                             pixels     Usage\n",
       "0        0  70 80 82 72 58 58 60 63 54 58 60 48 89 115 121...  Training\n",
       "1        0  151 150 147 155 148 133 111 140 170 174 182 15...  Training\n",
       "2        2  231 212 156 164 174 138 161 173 182 200 106 38...  Training"
      ]
     },
     "execution_count": 1,
     "metadata": {},
     "output_type": "execute_result"
    }
   ],
   "source": [
    "from IPython.display import display\n",
    "from basedir import data\n",
    "import pandas as pd\n",
    "\n",
    "\n",
    "emotions_data = pd.read_csv(data('fer2013', 'fer2013.csv'))\n",
    "emotions_data['emotion'] = emotions_data['emotion'].apply(int)\n",
    "emotions_data.head(3)"
   ]
  },
  {
   "cell_type": "code",
   "execution_count": 3,
   "metadata": {
    "collapsed": true
   },
   "outputs": [],
   "source": [
    "def get_subset(labels):\n",
    "    if isinstance(labels, str):\n",
    "        labels = [labels]\n",
    "    return pd.DataFrame(emotions_data[emotions_data.Usage.isin(labels)])\n",
    "\n",
    "\n",
    "training_data = get_subset(['Training', 'PublicTest'])\n",
    "del training_data['Usage']\n",
    "\n",
    "test_data = get_subset('PrivateTest')\n",
    "del test_data['Usage']"
   ]
  },
  {
   "cell_type": "code",
   "execution_count": 10,
   "metadata": {
    "collapsed": false
   },
   "outputs": [],
   "source": [
    "%matplotlib inline\n",
    "from itertools import chain\n",
    "import random\n",
    "\n",
    "import matplotlib.pylab as plt\n",
    "import numpy as np\n",
    "\n",
    "\n",
    "verbose_emotion = ['Angry', 'Disgust', 'Fear', 'Happy', 'Sad', 'Surprise', 'Neutral']\n",
    "\n",
    "\n",
    "def to_image(data, size=48):\n",
    "    if isinstance(data, str):\n",
    "        data = data.split()\n",
    "    flat = np.array([float(px) for px in data])\n",
    "    return flat.reshape((size, size))\n",
    "\n",
    "\n",
    "def sample_emotions(emotions=None):\n",
    "    grid_spec = {'hspace': 0.5}\n",
    "    fig, axes = plt.subplots(4, 4, figsize=(8, 8), facecolor='whitesmoke', gridspec_kw=grid_spec)\n",
    "    df = training_data\n",
    "    n = len(df)\n",
    "\n",
    "    if emotions is not None:\n",
    "        emotions = list(\n",
    "            i for i, name in enumerate(verbose_emotion)\n",
    "            if name.lower() in emotions)\n",
    "        df = df[df.emotion.isin(emotions)]\n",
    "\n",
    "    # color_map = plt.cm.get_cmap('Greys')\n",
    "    color_map = plt.cm.get_cmap('coolwarm')\n",
    "\n",
    "    for ax in chain(*axes):\n",
    "        record = df.iloc[random.randint(0, n)]\n",
    "        img = to_image(record.pixels)\n",
    "        ax.imshow(img, cmap=color_map)\n",
    "        ax.set_title(\"Emotion = '%s'\" % verbose_emotion[record.emotion],\n",
    "                     fontdict={'fontsize': 10})\n",
    "        ax.set_xticks([])\n",
    "        ax.set_yticks([])\n",
    "        \n",
    "    fig.savefig(\"/Users/ck/Desktop/faces.png\", format='png')\n",
    "\n",
    "\n",
    "sample_emotions()"
   ]
  },
  {
   "cell_type": "code",
   "execution_count": 24,
   "metadata": {
    "collapsed": false
   },
   "outputs": [
    {
     "name": "stdout",
     "output_type": "stream",
     "text": [
      "Emotions set\n"
     ]
    },
    {
     "data": {
      "text/html": [
       "<div>\n",
       "<table border=\"1\" class=\"dataframe\">\n",
       "  <thead>\n",
       "    <tr style=\"text-align: right;\">\n",
       "      <th></th>\n",
       "      <th>count</th>\n",
       "      <th>label</th>\n",
       "      <th>verbose</th>\n",
       "    </tr>\n",
       "  </thead>\n",
       "  <tbody>\n",
       "    <tr>\n",
       "      <th>0</th>\n",
       "      <td>4953</td>\n",
       "      <td>0</td>\n",
       "      <td>Angry</td>\n",
       "    </tr>\n",
       "    <tr>\n",
       "      <th>1</th>\n",
       "      <td>547</td>\n",
       "      <td>1</td>\n",
       "      <td>Disgust</td>\n",
       "    </tr>\n",
       "    <tr>\n",
       "      <th>2</th>\n",
       "      <td>5121</td>\n",
       "      <td>2</td>\n",
       "      <td>Fear</td>\n",
       "    </tr>\n",
       "    <tr>\n",
       "      <th>3</th>\n",
       "      <td>8989</td>\n",
       "      <td>3</td>\n",
       "      <td>Happy</td>\n",
       "    </tr>\n",
       "    <tr>\n",
       "      <th>4</th>\n",
       "      <td>6077</td>\n",
       "      <td>4</td>\n",
       "      <td>Sad</td>\n",
       "    </tr>\n",
       "    <tr>\n",
       "      <th>5</th>\n",
       "      <td>4002</td>\n",
       "      <td>5</td>\n",
       "      <td>Surprise</td>\n",
       "    </tr>\n",
       "    <tr>\n",
       "      <th>6</th>\n",
       "      <td>6198</td>\n",
       "      <td>6</td>\n",
       "      <td>Neutral</td>\n",
       "    </tr>\n",
       "  </tbody>\n",
       "</table>\n",
       "</div>"
      ],
      "text/plain": [
       "<div>\n",
       "<table border=\"1\" class=\"dataframe\">\n",
       "  <thead>\n",
       "    <tr style=\"text-align: right;\">\n",
       "      <th></th>\n",
       "      <th>count</th>\n",
       "      <th>label</th>\n",
       "      <th>verbose</th>\n",
       "    </tr>\n",
       "  </thead>\n",
       "  <tbody>\n",
       "    <tr>\n",
       "      <th>0</th>\n",
       "      <td>4953</td>\n",
       "      <td>0</td>\n",
       "      <td>Angry</td>\n",
       "    </tr>\n",
       "    <tr>\n",
       "      <th>1</th>\n",
       "      <td>547</td>\n",
       "      <td>1</td>\n",
       "      <td>Disgust</td>\n",
       "    </tr>\n",
       "    <tr>\n",
       "      <th>2</th>\n",
       "      <td>5121</td>\n",
       "      <td>2</td>\n",
       "      <td>Fear</td>\n",
       "    </tr>\n",
       "    <tr>\n",
       "      <th>3</th>\n",
       "      <td>8989</td>\n",
       "      <td>3</td>\n",
       "      <td>Happy</td>\n",
       "    </tr>\n",
       "    <tr>\n",
       "      <th>4</th>\n",
       "      <td>6077</td>\n",
       "      <td>4</td>\n",
       "      <td>Sad</td>\n",
       "    </tr>\n",
       "    <tr>\n",
       "      <th>5</th>\n",
       "      <td>4002</td>\n",
       "      <td>5</td>\n",
       "      <td>Surprise</td>\n",
       "    </tr>\n",
       "    <tr>\n",
       "      <th>6</th>\n",
       "      <td>6198</td>\n",
       "      <td>6</td>\n",
       "      <td>Neutral</td>\n",
       "    </tr>\n",
       "  </tbody>\n",
       "</table>\n",
       "</div>"
      ]
     },
     "execution_count": 0,
     "metadata": {},
     "output_type": "execute_result"
    }
   ],
   "source": [
    "from collections import Counter\n",
    "from operator import itemgetter\n",
    "\n",
    "counter = Counter(emotions_data.emotion.tolist())\n",
    "pairs = sorted(counter.items(), key=itemgetter(0))\n",
    "verbose = [{\"label\": i, \"verbose\": verbose_emotion[i], \"count\": count}  \n",
    "           for i, count in pairs]\n",
    "\n",
    "df = pd.DataFrame(verbose)\n",
    "print(\"Emotions set\")\n",
    "display(df)"
   ]
  },
  {
   "cell_type": "markdown",
   "metadata": {},
   "source": [
    "## More Involved Analysis and Data Transformation\n",
    "\n",
    "First steps worked with original data file and don't alternate it in any way. To make the original data more suitable for next steps, a few modifications were applied.\n",
    "\n",
    "Also, as soon as the dataset was excluded from repository (because of its big size), an extra utility was created to download this data. Thereofore, the first step is to download, preapre and dump processed data to make it available for next steps. Global configuration and misc parameters are also set in the next cell."
   ]
  },
  {
   "cell_type": "code",
   "execution_count": 2,
   "metadata": {
    "collapsed": false
   },
   "outputs": [],
   "source": [
    "import os\n",
    "import glob\n",
    "import logging\n",
    "import logging.config\n",
    "\n",
    "import numpy as np\n",
    "import pandas as pd\n",
    "from IPython.display import display\n",
    "\n",
    "from basedir import DATA_FOLDER, data\n",
    "from emotions import Dataset, dump, load\n",
    "from utils import sample_images, plot_learning_curve\n",
    "\n",
    "\n",
    "# Notebook configuration. Next cells could use these values to contol code flow \n",
    "DEBUG = True\n",
    "LOGGING_CONFIG = {\n",
    "    'version': 1,\n",
    "    'disable_existing_loggers': True,\n",
    "    'formatters': {\n",
    "        'console': {\n",
    "            'format': '[%(asctime)s] %(name)s: %(message)s'            \n",
    "        }\n",
    "    },\n",
    "    'handlers': {\n",
    "        'stream': {\n",
    "            'level': 'DEBUG',\n",
    "            'formatter': 'console',\n",
    "            'class': 'logging.StreamHandler',\n",
    "        }\n",
    "    },\n",
    "    'loggers': {\n",
    "        'notebook': {\n",
    "            'handlers': ['stream'],\n",
    "            'level': logging.DEBUG if DEBUG else logging.INFO,\n",
    "            'propagate': False            \n",
    "        }\n",
    "    }\n",
    "}\n",
    "RANDOM_STATE = 1\n",
    "SUBSET_INDEX = 0 if DEBUG else None\n",
    "N_FOLDS = 10\n",
    "\n",
    "# Data configuration\n",
    "IMAGE_SIZE = 48\n",
    "FALLBACK_VALUE = DATA_FOLDER\n",
    "DATA_FOLDER = os.environ.get('DATA_FOLDER', FALLBACK_VALUE)\n",
    "assert DATA_FOLDER, \"DATA_FOLDER env variable is not set. Set variable or provide fallback value\"\n",
    "\n",
    "# Setup logging\n",
    "logging.config.dictConfig(LOGGING_CONFIG)\n",
    "log = logging.getLogger('notebook')"
   ]
  },
  {
   "cell_type": "code",
   "execution_count": 1,
   "metadata": {
    "collapsed": false
   },
   "outputs": [
    {
     "ename": "NameError",
     "evalue": "name 'glob' is not defined",
     "output_type": "error",
     "traceback": [
      "\u001b[0;31m---------------------------------------------------------------------------\u001b[0m",
      "\u001b[0;31mNameError\u001b[0m                                 Traceback (most recent call last)",
      "\u001b[0;32m<ipython-input-1-13977e18b1e2>\u001b[0m in \u001b[0;36m<module>\u001b[0;34m()\u001b[0m\n\u001b[0;32m----> 1\u001b[0;31m \u001b[0mfilenames\u001b[0m \u001b[0;34m=\u001b[0m \u001b[0mlist\u001b[0m\u001b[0;34m(\u001b[0m\u001b[0mglob\u001b[0m\u001b[0;34m.\u001b[0m\u001b[0mglob1\u001b[0m\u001b[0;34m(\u001b[0m\u001b[0mDATA_FOLDER\u001b[0m\u001b[0;34m,\u001b[0m \u001b[0;34m'*.npy'\u001b[0m\u001b[0;34m)\u001b[0m\u001b[0;34m)\u001b[0m\u001b[0;34m\u001b[0m\u001b[0m\n\u001b[0m\u001b[1;32m      2\u001b[0m \u001b[0mloader\u001b[0m \u001b[0;34m=\u001b[0m \u001b[0mDataset\u001b[0m\u001b[0;34m(\u001b[0m\u001b[0;34m'fer2013'\u001b[0m\u001b[0;34m,\u001b[0m \u001b[0mdataset_folder\u001b[0m\u001b[0;34m=\u001b[0m\u001b[0mDATA_FOLDER\u001b[0m\u001b[0;34m)\u001b[0m\u001b[0;34m\u001b[0m\u001b[0m\n\u001b[1;32m      3\u001b[0m \u001b[0;34m\u001b[0m\u001b[0m\n\u001b[1;32m      4\u001b[0m \u001b[0;32mif\u001b[0m \u001b[0;32mnot\u001b[0m \u001b[0mfilenames\u001b[0m\u001b[0;34m:\u001b[0m\u001b[0;34m\u001b[0m\u001b[0m\n\u001b[1;32m      5\u001b[0m     \u001b[0mlog\u001b[0m\u001b[0;34m.\u001b[0m\u001b[0minfo\u001b[0m\u001b[0;34m(\u001b[0m\u001b[0;34m\"Data files not found. Loading dataset..\"\u001b[0m\u001b[0;34m)\u001b[0m\u001b[0;34m\u001b[0m\u001b[0m\n",
      "\u001b[0;31mNameError\u001b[0m: name 'glob' is not defined"
     ]
    }
   ],
   "source": [
    "filenames = list(glob.glob1(DATA_FOLDER, '*.npy'))\n",
    "loader = Dataset('fer2013', dataset_folder=DATA_FOLDER)\n",
    "\n",
    "if not filenames:\n",
    "    log.info(\"Data files not found. Loading dataset..\")\n",
    "    url = 'https://www.dropbox.com/s/jrivrub0ii16s4h/fer2013.tar.gz?dl=1'\n",
    "    loader.load_from_url(url, archive=True, name_in_archive='fer2013/fer2013.csv')\n",
    "\n",
    "    log.info(\"Preparing dataset for processing..\")\n",
    "    loader.prepare()\n",
    "    df = loader.prepared\n",
    "    X = df.drop(['label', 'verbose', 'subset'], axis=1).values\n",
    "    y = df.label.values\n",
    "    split_config = {'shuffle': True, 'random_state': RANDOM_STATE}\n",
    "\n",
    "    log.info(\"Dump dataset into smaller chunks..\")\n",
    "\n",
    "    # save data splitted into chunks\n",
    "    dump(X, y, prefix='emotions', output_dir=DATA_FOLDER, folds=N_FOLDS, stratified=True, **split_config)\n",
    "    filenames = list(glob.glob1(DATA_FOLDER, '*.npy'))\n",
    "    assert len(filenames) > 0, \"Data loader invoked, but data not found\"\n",
    "\n",
    "    log.info(\"File created in %s:\", DATA_FOLDER)\n",
    "    for filename in filenames:\n",
    "        log.info(\".. %s\", filename)\n",
    "    log.info(\"Done!\")\n",
    "            \n",
    "\n",
    "if DEBUG:\n",
    "    log.warning(\"You're in DEBUG mode - only a subset of data will be used\")\n",
    "\n",
    "X, y = load(DATA_FOLDER, prefix='emotions', subset_index=SUBSET_INDEX)\n",
    "log.info(\"Dataset shape: X=%s, y=%s\" % (str(X.shape), str(y.shape)))  \n",
    "log.info(\"Images sample to verify that dataset wasn't malformed\")\n",
    "fig, _ = sample_images(X, img_size=IMAGE_SIZE)\n",
    "display(fig)"
   ]
  },
  {
   "cell_type": "markdown",
   "metadata": {
    "collapsed": false
   },
   "source": [
    "Next step is data normalization and splitting into test and train subsets. \n",
    "\n",
    "> **Note**: Dependting on applied model, extra preprocessing steps could be applied (like reformating images into squeare matrices before applyied CNN, feature selection for linear models, etc.)"
   ]
  },
  {
   "cell_type": "code",
   "execution_count": 6,
   "metadata": {
    "collapsed": false
   },
   "outputs": [
    {
     "name": "stderr",
     "output_type": "stream",
     "text": [
      "[2017-01-10 08:18:13,917] notebook: Images sample after Min-Max normalization\n"
     ]
    },
    {
     "data": {
      "image/png": "[encoded data removed]",
      "text/plain": [
       "<matplotlib.figure.Figure at 0x7f6bd40994e0>"
      ]
     },
     "metadata": {},
     "output_type": "display_data"
    }
   ],
   "source": [
    "from sklearn.preprocessing import MinMaxScaler\n",
    "from sklearn.model_selection import train_test_split\n",
    "\n",
    "scaler = MinMaxScaler()\n",
    "X_norm = scaler.fit_transform(X)\n",
    "\n",
    "X_train, X_test, y_train, y_test = train_test_split(\n",
    "    X_norm, y, random_state=RANDOM_STATE, test_size=0.1)\n",
    "\n",
    "log.info(\"Images sample after Min-Max normalization\")\n",
    "fig, _ = sample_images(X_train, img_size=IMAGE_SIZE)\n",
    "display(fig)"
   ]
  },
  {
   "cell_type": "markdown",
   "metadata": {},
   "source": [
    "---\n",
    "### Baseline models\n",
    "\n",
    "To have a basic threshold to estimate deep learning model performence, the following baseline estimators were chosen:\n",
    "1. Multiclass Logistic Regression (one-vs-all approach)\n",
    "2. Random Forest Classifier"
   ]
  },
  {
   "cell_type": "markdown",
   "metadata": {},
   "source": [
    "### Logistic regression\n",
    "\n",
    "The first applyied model is Logistic Regression Classifier. To select the most optimal model, grid search is applied. The varying parameters are `penalty` (regularization norm) and `C` (reqularization multiplier, i.e. $\\frac{1}_{\\lambda}$)."
   ]
  },
  {
   "cell_type": "code",
   "execution_count": 11,
   "metadata": {
    "collapsed": false
   },
   "outputs": [
    {
     "name": "stderr",
     "output_type": "stream",
     "text": [
      "[2017-01-09 13:17:19,730] notebook: Selected baseline model: LogisticRegression\n"
     ]
    },
    {
     "name": "stdout",
     "output_type": "stream",
     "text": [
      "Fitting 5 folds for each of 10 candidates, totalling 50 fits\n",
      "[CV] C=100.0, penalty=l1 .............................................\n",
      "[CV] C=100.0, penalty=l1 .............................................\n",
      "[CV] C=100.0, penalty=l1 .............................................\n",
      "[CV] C=100.0, penalty=l1 .............................................\n",
      "[CV] C=100.0, penalty=l1 .............................................\n",
      "[CV] C=100.0, penalty=l2 .............................................\n",
      "[CV] C=100.0, penalty=l2 .............................................\n",
      "[CV] C=100.0, penalty=l2 .............................................\n",
      "[CV] .............................. C=100.0, penalty=l2, total= 2.1min\n",
      "[CV] C=100.0, penalty=l2 .............................................\n",
      "[CV] .............................. C=100.0, penalty=l2, total= 2.1min\n",
      "[CV] C=100.0, penalty=l2 .............................................\n",
      "[CV] .............................. C=100.0, penalty=l2, total= 2.1min\n",
      "[CV] C=30.0, penalty=l1 ..............................................\n",
      "[CV] .............................. C=100.0, penalty=l2, total= 2.2min\n",
      "[CV] C=30.0, penalty=l1 ..............................................\n",
      "[CV] .............................. C=100.0, penalty=l2, total= 2.3min\n",
      "[CV] C=30.0, penalty=l1 ..............................................\n",
      "[CV] .............................. C=100.0, penalty=l1, total= 5.0min\n",
      "[CV] C=30.0, penalty=l1 ..............................................\n",
      "[CV] .............................. C=100.0, penalty=l1, total= 5.0min\n",
      "[CV] C=30.0, penalty=l1 ..............................................\n",
      "[CV] .............................. C=100.0, penalty=l1, total= 5.3min\n",
      "[CV] C=30.0, penalty=l2 ..............................................\n",
      "[CV] .............................. C=100.0, penalty=l1, total= 5.6min\n",
      "[CV] C=30.0, penalty=l2 ..............................................\n",
      "[CV] .............................. C=100.0, penalty=l1, total= 5.6min\n",
      "[CV] C=30.0, penalty=l2 ..............................................\n",
      "[CV] ............................... C=30.0, penalty=l2, total= 1.7min\n",
      "[CV] C=30.0, penalty=l2 ..............................................\n",
      "[CV] ............................... C=30.0, penalty=l2, total= 1.8min\n",
      "[CV] C=30.0, penalty=l2 ..............................................\n",
      "[CV] ............................... C=30.0, penalty=l2, total= 1.9min\n",
      "[CV] C=10.0, penalty=l1 ..............................................\n",
      "[CV] ............................... C=30.0, penalty=l1, total= 5.5min\n",
      "[CV] C=10.0, penalty=l1 ..............................................\n",
      "[CV] ............................... C=30.0, penalty=l2, total= 1.8min\n",
      "[CV] C=10.0, penalty=l1 ..............................................\n",
      "[CV] ............................... C=30.0, penalty=l2, total= 1.9min\n",
      "[CV] C=10.0, penalty=l1 ..............................................\n",
      "[CV] ............................... C=30.0, penalty=l1, total= 5.1min\n",
      "[CV] C=10.0, penalty=l1 ..............................................\n",
      "[CV] ............................... C=30.0, penalty=l1, total= 5.4min\n",
      "[CV] C=10.0, penalty=l2 ..............................................\n",
      "[CV] ............................... C=30.0, penalty=l1, total= 4.9min\n",
      "[CV] C=10.0, penalty=l2 ..............................................\n",
      "[CV] ............................... C=30.0, penalty=l1, total= 5.3min\n",
      "[CV] C=10.0, penalty=l2 ..............................................\n",
      "[CV] ............................... C=10.0, penalty=l2, total= 1.4min\n",
      "[CV] C=10.0, penalty=l2 ..............................................\n",
      "[CV] ............................... C=10.0, penalty=l2, total= 1.4min\n",
      "[CV] C=10.0, penalty=l2 ..............................................\n",
      "[CV] ............................... C=10.0, penalty=l1, total= 4.3min\n",
      "[CV] C=3.0, penalty=l1 ...............................................\n",
      "[CV] ............................... C=10.0, penalty=l1, total= 4.1min\n",
      "[CV] C=3.0, penalty=l1 ...............................................\n",
      "[CV] ............................... C=10.0, penalty=l2, total= 1.5min\n",
      "[CV] C=3.0, penalty=l1 ...............................................\n"
     ]
    },
    {
     "name": "stderr",
     "output_type": "stream",
     "text": [
      "[Parallel(n_jobs=-1)]: Done  25 tasks      | elapsed: 11.9min\n"
     ]
    },
    {
     "name": "stdout",
     "output_type": "stream",
     "text": [
      "[CV] ............................... C=10.0, penalty=l2, total= 1.5min\n",
      "[CV] C=3.0, penalty=l1 ...............................................\n",
      "[CV] ............................... C=10.0, penalty=l1, total= 4.1min\n",
      "[CV] C=3.0, penalty=l1 ...............................................\n",
      "[CV] ............................... C=10.0, penalty=l2, total= 1.6min\n",
      "[CV] C=3.0, penalty=l2 ...............................................\n",
      "[CV] ............................... C=10.0, penalty=l1, total= 4.1min\n",
      "[CV] C=3.0, penalty=l2 ...............................................\n",
      "[CV] ................................ C=3.0, penalty=l1, total= 1.9min\n",
      "[CV] C=3.0, penalty=l2 ...............................................\n",
      "[CV] ................................ C=3.0, penalty=l1, total= 1.8min\n",
      "[CV] C=3.0, penalty=l2 ...............................................\n",
      "[CV] ............................... C=10.0, penalty=l1, total= 4.4min\n",
      "[CV] C=3.0, penalty=l2 ...............................................\n",
      "[CV] ................................ C=3.0, penalty=l1, total= 2.0min\n",
      "[CV] C=1.0, penalty=l1 ...............................................\n",
      "[CV] ................................ C=3.0, penalty=l2, total= 1.0min\n",
      "[CV] C=1.0, penalty=l1 ...............................................\n",
      "[CV] ................................ C=1.0, penalty=l1, total=  24.1s\n",
      "[CV] C=1.0, penalty=l1 ...............................................\n",
      "[CV] ................................ C=1.0, penalty=l1, total=  23.7s\n",
      "[CV] C=1.0, penalty=l1 ...............................................\n",
      "[CV] ................................ C=3.0, penalty=l1, total= 1.9min\n",
      "[CV] C=1.0, penalty=l1 ...............................................\n",
      "[CV] ................................ C=3.0, penalty=l2, total= 1.1min\n",
      "[CV] C=1.0, penalty=l2 ...............................................\n",
      "[CV] ................................ C=1.0, penalty=l1, total=  27.1s\n",
      "[CV] C=1.0, penalty=l2 ...............................................\n",
      "[CV] ................................ C=3.0, penalty=l1, total= 1.8min\n",
      "[CV] C=1.0, penalty=l2 ...............................................\n",
      "[CV] ................................ C=3.0, penalty=l2, total= 1.1min\n",
      "[CV] C=1.0, penalty=l2 ...............................................\n",
      "[CV] ................................ C=3.0, penalty=l2, total= 1.1min\n",
      "[CV] C=1.0, penalty=l2 ...............................................\n",
      "[CV] ................................ C=1.0, penalty=l1, total=  25.0s\n",
      "[CV] ................................ C=3.0, penalty=l2, total= 1.2min\n",
      "[CV] ................................ C=1.0, penalty=l1, total=  23.6s\n",
      "[CV] ................................ C=1.0, penalty=l2, total=  38.2s\n",
      "[CV] ................................ C=1.0, penalty=l2, total=  42.5s\n",
      "[CV] ................................ C=1.0, penalty=l2, total=  38.0s\n",
      "[CV] ................................ C=1.0, penalty=l2, total=  41.3s\n",
      "[CV] ................................ C=1.0, penalty=l2, total=  39.9s\n"
     ]
    },
    {
     "name": "stderr",
     "output_type": "stream",
     "text": [
      "[Parallel(n_jobs=-1)]: Done  50 out of  50 | elapsed: 15.5min finished\n"
     ]
    }
   ],
   "source": [
    "from operator import itemgetter\n",
    "\n",
    "from IPython.display import display\n",
    "from sklearn.linear_model import LogisticRegression\n",
    "from sklearn.model_selection import cross_val_score, learning_curve, GridSearchCV\n",
    "\n",
    "\n",
    "param_grid = {\n",
    "    'penalty': ['l1', 'l2'],\n",
    "    'C': [100.0, 30.0, 10.0, 3.0, 1.0]\n",
    "}\n",
    "\n",
    "logreg = LogisticRegression(max_iter=1000, random_state=RANDOM_STATE)        \n",
    "log.info(\"Selected baseline model: %s\", str(logreg.__class__.__name__))\n",
    "grid_search = GridSearchCV(estimator=logreg, cv=5, param_grid=param_grid, n_jobs=-1, verbose=2)\n",
    "_ = grid_search.fit(X_train, y_train.ravel())"
   ]
  },
  {
   "cell_type": "markdown",
   "metadata": {},
   "source": [
    "Next cell shows validation results along with the best parameters."
   ]
  },
  {
   "cell_type": "code",
   "execution_count": 12,
   "metadata": {
    "collapsed": false
   },
   "outputs": [
    {
     "data": {
      "text/html": [
       "<div>\n",
       "<table border=\"1\" class=\"dataframe\">\n",
       "  <thead>\n",
       "    <tr style=\"text-align: right;\">\n",
       "      <th></th>\n",
       "      <th>mean_fit_time</th>\n",
       "      <th>mean_train_score</th>\n",
       "      <th>std_train_score</th>\n",
       "      <th>mean_test_score</th>\n",
       "      <th>std_test_score</th>\n",
       "      <th>param_C</th>\n",
       "      <th>param_penalty</th>\n",
       "    </tr>\n",
       "  </thead>\n",
       "  <tbody>\n",
       "    <tr>\n",
       "      <th>0</th>\n",
       "      <td>318.740509</td>\n",
       "      <td>0.998994</td>\n",
       "      <td>0.000395</td>\n",
       "      <td>0.260520</td>\n",
       "      <td>0.018001</td>\n",
       "      <td>100</td>\n",
       "      <td>l1</td>\n",
       "    </tr>\n",
       "    <tr>\n",
       "      <th>1</th>\n",
       "      <td>129.808681</td>\n",
       "      <td>0.998917</td>\n",
       "      <td>0.000451</td>\n",
       "      <td>0.267327</td>\n",
       "      <td>0.018008</td>\n",
       "      <td>100</td>\n",
       "      <td>l2</td>\n",
       "    </tr>\n",
       "    <tr>\n",
       "      <th>2</th>\n",
       "      <td>316.145396</td>\n",
       "      <td>0.998762</td>\n",
       "      <td>0.000569</td>\n",
       "      <td>0.263923</td>\n",
       "      <td>0.021088</td>\n",
       "      <td>30</td>\n",
       "      <td>l1</td>\n",
       "    </tr>\n",
       "    <tr>\n",
       "      <th>3</th>\n",
       "      <td>108.876100</td>\n",
       "      <td>0.998376</td>\n",
       "      <td>0.000568</td>\n",
       "      <td>0.272896</td>\n",
       "      <td>0.019248</td>\n",
       "      <td>30</td>\n",
       "      <td>l2</td>\n",
       "    </tr>\n",
       "    <tr>\n",
       "      <th>4</th>\n",
       "      <td>252.224634</td>\n",
       "      <td>0.998066</td>\n",
       "      <td>0.000489</td>\n",
       "      <td>0.267946</td>\n",
       "      <td>0.018439</td>\n",
       "      <td>10</td>\n",
       "      <td>l1</td>\n",
       "    </tr>\n",
       "    <tr>\n",
       "      <th>5</th>\n",
       "      <td>89.270654</td>\n",
       "      <td>0.995513</td>\n",
       "      <td>0.000998</td>\n",
       "      <td>0.280012</td>\n",
       "      <td>0.026848</td>\n",
       "      <td>10</td>\n",
       "      <td>l2</td>\n",
       "    </tr>\n",
       "    <tr>\n",
       "      <th>6</th>\n",
       "      <td>113.183278</td>\n",
       "      <td>0.945621</td>\n",
       "      <td>0.002716</td>\n",
       "      <td>0.291151</td>\n",
       "      <td>0.022905</td>\n",
       "      <td>3</td>\n",
       "      <td>l1</td>\n",
       "    </tr>\n",
       "    <tr>\n",
       "      <th>7</th>\n",
       "      <td>65.504585</td>\n",
       "      <td>0.962792</td>\n",
       "      <td>0.002686</td>\n",
       "      <td>0.293317</td>\n",
       "      <td>0.021630</td>\n",
       "      <td>3</td>\n",
       "      <td>l2</td>\n",
       "    </tr>\n",
       "    <tr>\n",
       "      <th>8</th>\n",
       "      <td>24.686762</td>\n",
       "      <td>0.724011</td>\n",
       "      <td>0.004359</td>\n",
       "      <td>0.328589</td>\n",
       "      <td>0.026835</td>\n",
       "      <td>1</td>\n",
       "      <td>l1</td>\n",
       "    </tr>\n",
       "    <tr>\n",
       "      <th>9</th>\n",
       "      <td>39.991768</td>\n",
       "      <td>0.888689</td>\n",
       "      <td>0.002874</td>\n",
       "      <td>0.315285</td>\n",
       "      <td>0.029461</td>\n",
       "      <td>1</td>\n",
       "      <td>l2</td>\n",
       "    </tr>\n",
       "  </tbody>\n",
       "</table>\n",
       "</div>"
      ],
      "text/plain": [
       "   mean_fit_time  mean_train_score  std_train_score  mean_test_score  \\\n",
       "0     318.740509          0.998994         0.000395         0.260520   \n",
       "1     129.808681          0.998917         0.000451         0.267327   \n",
       "2     316.145396          0.998762         0.000569         0.263923   \n",
       "3     108.876100          0.998376         0.000568         0.272896   \n",
       "4     252.224634          0.998066         0.000489         0.267946   \n",
       "5      89.270654          0.995513         0.000998         0.280012   \n",
       "6     113.183278          0.945621         0.002716         0.291151   \n",
       "7      65.504585          0.962792         0.002686         0.293317   \n",
       "8      24.686762          0.724011         0.004359         0.328589   \n",
       "9      39.991768          0.888689         0.002874         0.315285   \n",
       "\n",
       "   std_test_score param_C param_penalty  \n",
       "0        0.018001     100            l1  \n",
       "1        0.018008     100            l2  \n",
       "2        0.021088      30            l1  \n",
       "3        0.019248      30            l2  \n",
       "4        0.018439      10            l1  \n",
       "5        0.026848      10            l2  \n",
       "6        0.022905       3            l1  \n",
       "7        0.021630       3            l2  \n",
       "8        0.026835       1            l1  \n",
       "9        0.029461       1            l2  "
      ]
     },
     "metadata": {},
     "output_type": "display_data"
    },
    {
     "name": "stderr",
     "output_type": "stream",
     "text": [
      "[2017-01-09 13:33:08,242] notebook: Best parameters: {'C': 1.0, 'penalty': 'l1'}\n"
     ]
    }
   ],
   "source": [
    "best_logreg = grid_search.best_estimator_\n",
    "best_logreg_params = grid_search.best_params_\n",
    "logreg_cv_results = grid_search.cv_results_\n",
    "param_cols = [c for c in logreg_cv_results.keys()\n",
    "              if c.startswith('param_')]\n",
    "\n",
    "columns_of_interest = [\n",
    "    'mean_fit_time', \n",
    "    'mean_train_score', 'std_train_score',\n",
    "    'mean_test_score', 'std_test_score']\n",
    "columns_of_interest.extend(param_cols)\n",
    "\n",
    "df_cv_results = pd.DataFrame(logreg_cv_results)[columns_of_interest]\n",
    "display(df_cv_results)\n",
    "log.debug(\"Best parameters: %s\", best_logreg_params)"
   ]
  },
  {
   "cell_type": "markdown",
   "metadata": {},
   "source": [
    "It could be noted right from validation results that mean test score is quite low for selected classifier parameters. That is quite different from results that *Logistic Regression* could show when applied to some other, more simple datasets. Probably it happens because humans face emotions could be difficult to distinguish from each other.\n",
    " \n",
    "Nevertherless, let's plot learning curve too see if more amount data helps to improve. As it was mentioned earlier, only small amount of data is used on first run. So now let's take more data and also plot a training curve and calculate classification metrics that could give some insights about baseline model quality and give validation threshold for more sophisticated models."
   ]
  },
  {
   "cell_type": "code",
   "execution_count": 15,
   "metadata": {
    "collapsed": false
   },
   "outputs": [
    {
     "name": "stderr",
     "output_type": "stream",
     "text": [
      "[2017-01-10 08:37:48,466] notebook: X shape = (7183, 2304), y shape = (7183,)\n"
     ]
    },
    {
     "data": {
      "image/png": "[encoded data removed]",
      "text/plain": [
       "<matplotlib.figure.Figure at 0x7f6b981c6ef0>"
      ]
     },
     "metadata": {},
     "output_type": "display_data"
    },
    {
     "name": "stdout",
     "output_type": "stream",
     "text": [
      "             precision    recall  f1-score   support\n",
      "\n",
      "      Angry       0.23      0.18      0.20       187\n",
      "    Disgust       0.00      0.00      0.00        18\n",
      "       Fear       0.18      0.13      0.15       207\n",
      "      Happy       0.40      0.58      0.47       350\n",
      "        Sad       0.27      0.25      0.26       251\n",
      "   Surprise       0.44      0.41      0.43       157\n",
      "    Neutral       0.28      0.25      0.27       267\n",
      "\n",
      "avg / total       0.30      0.32      0.30      1437\n",
      "\n"
     ]
    }
   ],
   "source": [
    "from sklearn.linear_model import LogisticRegression\n",
    "from sklearn.metrics import classification_report\n",
    "from sklearn.preprocessing import MinMaxScaler\n",
    "\n",
    "from utils import plot_learning_curve\n",
    "from emotions import load\n",
    "\n",
    "\n",
    "X_chunk0, y_chunk0 = load(DATA_FOLDER, 'emotions', subset_index=0)\n",
    "X_chunk1, y_chunk1 = load(DATA_FOLDER, 'emotions', subset_index=1)\n",
    "X_more, y_more = np.r_[X_chunk0, X_chunk1], np.r_[y_chunk0, y_chunk1]\n",
    "\n",
    "log.info('X shape = %s, y shape = %s', X_more.shape, y_more.shape)\n",
    "\n",
    "X_more_train, X_more_test, y_more_train, y_more_test = train_test_split(\n",
    "    MinMaxScaler().fit_transform(X_more), y_more, random_state=RANDOM_STATE, test_size=0.2)\n",
    "\n",
    "best_logreg_params = {'C': 1.0, 'penalty': 'l1', 'max_iter': 1000}\n",
    "best_model = LogisticRegression(random_state=RANDOM_STATE)\n",
    "best_model.set_params(**best_logreg_params)\n",
    "title = 'Logistic Regression classifier learning curve\\n%s' % best_logreg_params\n",
    "fig = plot_learning_curve(best_model, title, X_more_train, y_more_train)\n",
    "display(fig)\n",
    "\n",
    "best_model.fit(X_more_train, y_more_train)\n",
    "y_preds = best_model.predict(X_more_test)\n",
    "report = classification_report(y_more_test, y_preds, target_names=loader.VERBOSE_EMOTION)\n",
    "print(report)"
   ]
  },
  {
   "cell_type": "markdown",
   "metadata": {},
   "source": [
    "Data size increasing has some effect on estimator's accuracy, but not too big. Also note that as it was earlier mentioned, dataset is unbalanced and some facial emotions are underrepresented. For example, `Disgust` labels are much more rare then `Happy` or `Neutral`."
   ]
  },
  {
   "cell_type": "code",
   "execution_count": 3,
   "metadata": {
    "collapsed": false
   },
   "outputs": [
    {
     "name": "stderr",
     "output_type": "stream",
     "text": [
      "[2017-01-11 04:32:33,574] notebook: X shape = (35887, 2304), y shape = (35887,)\n"
     ]
    }
   ],
   "source": [
    "# Restore the whole dataset from chunks\n",
    "import glob\n",
    "\n",
    "n_total = len(list(glob.glob1(DATA_FOLDER, '*.npy'))) // 2\n",
    "Xs, ys = zip(*[load(DATA_FOLDER, 'emotions', subset_index=i) for i in range(n_total)])             \n",
    "X, y = np.r_[Xs], np.r_[ys]        \n",
    "log.info('X shape = %s, y shape = %s', X.shape, y.shape)"
   ]
  },
  {
   "cell_type": "code",
   "execution_count": 4,
   "metadata": {
    "collapsed": false
   },
   "outputs": [
    {
     "name": "stderr",
     "output_type": "stream",
     "text": [
      "[2017-01-11 04:32:35,882] notebook: Fitting model using full dataset..\n",
      "[2017-01-11 04:49:02,188] notebook: Time elapsed to fit model: 00:16:26\n"
     ]
    }
   ],
   "source": [
    "# Apply logistic regression to this data\n",
    "from sklearn.model_selection import train_test_split\n",
    "from sklearn.linear_model import LogisticRegression\n",
    "from sklearn.preprocessing import MinMaxScaler\n",
    "from sklearn.externals import joblib\n",
    "\n",
    "from utils import Timer, save_model\n",
    "\n",
    "\n",
    "X_train, X_test, y_train, y_test = train_test_split(\n",
    "    MinMaxScaler().fit_transform(X), y, random_state=RANDOM_STATE, test_size=0.1)\n",
    "\n",
    "full_model = LogisticRegression(C=1.0, penalty='l1', max_iter=1000, random_state=RANDOM_STATE, n_jobs=-1)\n",
    "log.info('Fitting model using full dataset..')\n",
    "with Timer() as timer:\n",
    "    full_model.fit(X_train, y_train)\n",
    "save_model(full_model, DATA_FOLDER, 'logreg.model')\n",
    "log.info(\"Time elapsed to fit model: %s\", timer)"
   ]
  },
  {
   "cell_type": "code",
   "execution_count": 8,
   "metadata": {
    "collapsed": false
   },
   "outputs": [
    {
     "name": "stdout",
     "output_type": "stream",
     "text": [
      "             precision    recall  f1-score   support\n",
      "\n",
      "      Angry       0.27      0.17      0.21       475\n",
      "    Disgust       0.40      0.08      0.13        51\n",
      "       Fear       0.29      0.16      0.21       548\n",
      "      Happy       0.43      0.66      0.52       894\n",
      "        Sad       0.28      0.27      0.27       600\n",
      "   Surprise       0.43      0.45      0.44       384\n",
      "    Neutral       0.33      0.33      0.33       637\n",
      "\n",
      "avg / total       0.35      0.36      0.34      3589\n",
      "\n",
      "Help on function roc_curve in module sklearn.metrics.ranking:\n",
      "\n",
      "roc_curve(y_true, y_score, pos_label=None, sample_weight=None, drop_intermediate=True)\n",
      "    Compute Receiver operating characteristic (ROC)\n",
      "    \n",
      "    Note: this implementation is restricted to the binary classification task.\n",
      "    \n",
      "    Read more in the :ref:`User Guide <roc_metrics>`.\n",
      "    \n",
      "    Parameters\n",
      "    ----------\n",
      "    \n",
      "    y_true : array, shape = [n_samples]\n",
      "        True binary labels in range {0, 1} or {-1, 1}.  If labels are not\n",
      "        binary, pos_label should be explicitly given.\n",
      "    \n",
      "    y_score : array, shape = [n_samples]\n",
      "        Target scores, can either be probability estimates of the positive\n",
      "        class, confidence values, or non-thresholded measure of decisions\n",
      "        (as returned by \"decision_function\" on some classifiers).\n",
      "    \n",
      "    pos_label : int or str, default=None\n",
      "        Label considered as positive and others are considered negative.\n",
      "    \n",
      "    sample_weight : array-like of shape = [n_samples], optional\n",
      "        Sample weights.\n",
      "    \n",
      "    drop_intermediate : boolean, optional (default=True)\n",
      "        Whether to drop some suboptimal thresholds which would not appear\n",
      "        on a plotted ROC curve. This is useful in order to create lighter\n",
      "        ROC curves.\n",
      "    \n",
      "        .. versionadded:: 0.17\n",
      "           parameter *drop_intermediate*.\n",
      "    \n",
      "    Returns\n",
      "    -------\n",
      "    fpr : array, shape = [>2]\n",
      "        Increasing false positive rates such that element i is the false\n",
      "        positive rate of predictions with score >= thresholds[i].\n",
      "    \n",
      "    tpr : array, shape = [>2]\n",
      "        Increasing true positive rates such that element i is the true\n",
      "        positive rate of predictions with score >= thresholds[i].\n",
      "    \n",
      "    thresholds : array, shape = [n_thresholds]\n",
      "        Decreasing thresholds on the decision function used to compute\n",
      "        fpr and tpr. `thresholds[0]` represents no instances being predicted\n",
      "        and is arbitrarily set to `max(y_score) + 1`.\n",
      "    \n",
      "    See also\n",
      "    --------\n",
      "    roc_auc_score : Compute Area Under the Curve (AUC) from prediction scores\n",
      "    \n",
      "    Notes\n",
      "    -----\n",
      "    Since the thresholds are sorted from low to high values, they\n",
      "    are reversed upon returning them to ensure they correspond to both ``fpr``\n",
      "    and ``tpr``, which are sorted in reversed order during their calculation.\n",
      "    \n",
      "    References\n",
      "    ----------\n",
      "    .. [1] `Wikipedia entry for the Receiver operating characteristic\n",
      "            <https://en.wikipedia.org/wiki/Receiver_operating_characteristic>`_\n",
      "    \n",
      "    \n",
      "    Examples\n",
      "    --------\n",
      "    >>> import numpy as np\n",
      "    >>> from sklearn import metrics\n",
      "    >>> y = np.array([1, 1, 2, 2])\n",
      "    >>> scores = np.array([0.1, 0.4, 0.35, 0.8])\n",
      "    >>> fpr, tpr, thresholds = metrics.roc_curve(y, scores, pos_label=2)\n",
      "    >>> fpr\n",
      "    array([ 0. ,  0.5,  0.5,  1. ])\n",
      "    >>> tpr\n",
      "    array([ 0.5,  0.5,  1. ,  1. ])\n",
      "    >>> thresholds\n",
      "    array([ 0.8 ,  0.4 ,  0.35,  0.1 ])\n",
      "\n"
     ]
    }
   ],
   "source": [
    "from itertools import chain\n",
    "\n",
    "from sklearn.metrics import classification_report, roc_curve\n",
    "import matplotlib.pyplot as plt\n",
    "\n",
    "from utils import load_model\n",
    "from emotions import FER2013Dataset\n",
    "\n",
    "\n",
    "target_names = FER2013Dataset.VERBOSE_EMOTION\n",
    "full_model = load_model(DATA_FOLDER, 'logreg.model')\n",
    "y_preds = full_model.predict(X_test)\n",
    "print(classification_report(y_test, y_preds, target_names=target_names))\n",
    "\n",
    "roc_curves, axes = plt.subplots(4, 2, figsize=(14, 10))\n",
    "for target_name, ax in zip(target_names, chain(*axes)):\n",
    "    "
   ]
  },
  {
   "cell_type": "markdown",
   "metadata": {},
   "source": [
    "### Random Forest\n",
    "\n",
    "The second baseline model is a Random Forest classifier. One advantage of ensemble models is that these methods allows to combine together a bunch of _weak learners_ - predictors, which if applied standalone show low prediction accuracy, but when combined together and have enough data could show good results."
   ]
  },
  {
   "cell_type": "code",
   "execution_count": null,
   "metadata": {
    "collapsed": true
   },
   "outputs": [],
   "source": [
    "param_grid = {\n",
    "    'criterion': ['gini', 'entropy'],\n",
    "    'max_features': [None, 'sqrt', 'log2'],\n",
    "    'min_samples_split': [2, 3, 4]\n",
    "}\n",
    "\n",
    "random_forest = RandomForestClassifier()"
   ]
  },
  {
   "cell_type": "code",
   "execution_count": null,
   "metadata": {
    "collapsed": true
   },
   "outputs": [],
   "source": [
    "from keras.preprocessing.image import ImageDataGenerator \n",
    "\n",
    "# datagen = ImageDataGenerator(featurewise_center=True,\n",
    "#                              featurewise_std_normalization=True,\n",
    "#                              zca_whitening=True)\n",
    "# n, m = sample_grid = (3, 3)\n",
    "# fig, axes = plt.subplots(n, m, figsize=(10, 10))\n",
    "\n",
    "# for X_batch, y_batch in datagen.flow(X_train, y_train, batch_size=n * m):    \n",
    "    \n",
    "#     for ax, pixels, label in zip(chain(*axes), X_batch, y_batch):\n",
    "#         image = pixels.reshape(28, 28)\n",
    "#         ax.imshow(cmap=plt.get_cmap('gray'))\n",
    "#         ax.set_title(\"Emotion = '%s'\" % verbose_emotion[label], fontdict={'fontsize': 10})\n",
    "#         ax.set_xticks([])\n",
    "#         ax.set_yticks([])\n",
    "#         break\n",
    "\n"
   ]
  }
 ],
 "metadata": {
  "kernelspec": {
   "display_name": "Python [conda env:deep]",
   "language": "python",
   "name": "conda-env-deep-py"
  },
  "language_info": {
   "codemirror_mode": {
    "name": "ipython",
    "version": 3
   },
   "file_extension": ".py",
   "mimetype": "text/x-python",
   "name": "python",
   "nbconvert_exporter": "python",
   "pygments_lexer": "ipython3",
   "version": "3.5.2"
  }
 },
 "nbformat": 4,
 "nbformat_minor": 0
}
